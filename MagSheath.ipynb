{
 "cells": [
  {
   "cell_type": "markdown",
   "id": "907817a0",
   "metadata": {},
   "source": [
    "# IRF Magnetic data analysis"
   ]
  },
  {
   "cell_type": "markdown",
   "id": "4a2d0dd2",
   "metadata": {},
   "source": [
    "Start by importing some stuff"
   ]
  },
  {
   "cell_type": "code",
   "execution_count": 1,
   "id": "08f17000",
   "metadata": {},
   "outputs": [],
   "source": [
    "import numpy as np\n",
    "import pandas as pd\n",
    "import matplotlib.pyplot as plt\n",
    "#and definig the file name of the given data to analyse\n",
    "file = 'mag_sheath.txt'"
   ]
  },
  {
   "cell_type": "markdown",
   "id": "e7ab99af",
   "metadata": {},
   "source": [
    "Load the data. Everything is loaded as a string, and column names will be added manually later"
   ]
  },
  {
   "cell_type": "code",
   "execution_count": 2,
   "id": "054aa03a",
   "metadata": {},
   "outputs": [],
   "source": [
    "data = np.loadtxt(file, skiprows=1, dtype='str')"
   ]
  },
  {
   "cell_type": "markdown",
   "id": "e9af40d1",
   "metadata": {},
   "source": [
    "Have a look at the data"
   ]
  },
  {
   "cell_type": "code",
   "execution_count": 3,
   "id": "5d5ded91",
   "metadata": {},
   "outputs": [
    {
     "data": {
      "text/plain": [
       "array([['2014-11-11/23:12:37', '1588', '235', '1.82', '5.60', '-0.58'],\n",
       "       ['2014-11-12/03:28:05', '1989', '236', '-2.04', '9.90', '1.98'],\n",
       "       ['2014-11-12/21:56:13', '1870', '240', '-0.00', '3.56', '4.74'],\n",
       "       ...,\n",
       "       ['2022-09-29/20:04:26', '1925', '17302', '-3.30', '-11.40',\n",
       "        '-2.44'],\n",
       "       ['2022-09-30/10:47:49', '2012', '17306', '4.89', '2.41', '0.83'],\n",
       "       ['2022-09-30/18:06:01', '1978', '17308', '2.78', '-3.01', '0.68']],\n",
       "      dtype='<U19')"
      ]
     },
     "execution_count": 3,
     "metadata": {},
     "output_type": "execute_result"
    }
   ],
   "source": [
    "data"
   ]
  },
  {
   "cell_type": "markdown",
   "id": "f85b8dc5",
   "metadata": {},
   "source": [
    "Convert the Numpy array to a Pandas Dataframe for prettiness, and for adding the column names. Both df (pd) and data (np) can be used now"
   ]
  },
  {
   "cell_type": "code",
   "execution_count": 4,
   "id": "0b7231f0",
   "metadata": {},
   "outputs": [],
   "source": [
    "df = pd.DataFrame(data, columns = ['Time', 'number of data points', 'orbit number', 'Bx_mso (nT)', 'By_mso (nT)', 'Bz_mso (nT)'])"
   ]
  },
  {
   "cell_type": "markdown",
   "id": "2f841bb1",
   "metadata": {},
   "source": [
    "#### Pretty data"
   ]
  },
  {
   "cell_type": "code",
   "execution_count": 5,
   "id": "36493921",
   "metadata": {},
   "outputs": [
    {
     "data": {
      "text/html": [
       "<div>\n",
       "<style scoped>\n",
       "    .dataframe tbody tr th:only-of-type {\n",
       "        vertical-align: middle;\n",
       "    }\n",
       "\n",
       "    .dataframe tbody tr th {\n",
       "        vertical-align: top;\n",
       "    }\n",
       "\n",
       "    .dataframe thead th {\n",
       "        text-align: right;\n",
       "    }\n",
       "</style>\n",
       "<table border=\"1\" class=\"dataframe\">\n",
       "  <thead>\n",
       "    <tr style=\"text-align: right;\">\n",
       "      <th></th>\n",
       "      <th>Time</th>\n",
       "      <th>number of data points</th>\n",
       "      <th>orbit number</th>\n",
       "      <th>Bx_mso (nT)</th>\n",
       "      <th>By_mso (nT)</th>\n",
       "      <th>Bz_mso (nT)</th>\n",
       "    </tr>\n",
       "  </thead>\n",
       "  <tbody>\n",
       "    <tr>\n",
       "      <th>0</th>\n",
       "      <td>2014-11-11/23:12:37</td>\n",
       "      <td>1588</td>\n",
       "      <td>235</td>\n",
       "      <td>1.82</td>\n",
       "      <td>5.60</td>\n",
       "      <td>-0.58</td>\n",
       "    </tr>\n",
       "    <tr>\n",
       "      <th>1</th>\n",
       "      <td>2014-11-12/03:28:05</td>\n",
       "      <td>1989</td>\n",
       "      <td>236</td>\n",
       "      <td>-2.04</td>\n",
       "      <td>9.90</td>\n",
       "      <td>1.98</td>\n",
       "    </tr>\n",
       "    <tr>\n",
       "      <th>2</th>\n",
       "      <td>2014-11-12/21:56:13</td>\n",
       "      <td>1870</td>\n",
       "      <td>240</td>\n",
       "      <td>-0.00</td>\n",
       "      <td>3.56</td>\n",
       "      <td>4.74</td>\n",
       "    </tr>\n",
       "    <tr>\n",
       "      <th>3</th>\n",
       "      <td>2014-11-13/02:17:49</td>\n",
       "      <td>2185</td>\n",
       "      <td>241</td>\n",
       "      <td>-0.86</td>\n",
       "      <td>3.55</td>\n",
       "      <td>2.84</td>\n",
       "    </tr>\n",
       "    <tr>\n",
       "      <th>4</th>\n",
       "      <td>2014-11-13/16:42:15</td>\n",
       "      <td>1259</td>\n",
       "      <td>244</td>\n",
       "      <td>-0.93</td>\n",
       "      <td>5.27</td>\n",
       "      <td>0.39</td>\n",
       "    </tr>\n",
       "    <tr>\n",
       "      <th>...</th>\n",
       "      <td>...</td>\n",
       "      <td>...</td>\n",
       "      <td>...</td>\n",
       "      <td>...</td>\n",
       "      <td>...</td>\n",
       "      <td>...</td>\n",
       "    </tr>\n",
       "    <tr>\n",
       "      <th>8411</th>\n",
       "      <td>2022-09-29/12:47:57</td>\n",
       "      <td>1972</td>\n",
       "      <td>17300</td>\n",
       "      <td>-1.33</td>\n",
       "      <td>-4.02</td>\n",
       "      <td>2.90</td>\n",
       "    </tr>\n",
       "    <tr>\n",
       "      <th>8412</th>\n",
       "      <td>2022-09-29/16:22:29</td>\n",
       "      <td>1862</td>\n",
       "      <td>17301</td>\n",
       "      <td>-4.04</td>\n",
       "      <td>-10.08</td>\n",
       "      <td>1.01</td>\n",
       "    </tr>\n",
       "    <tr>\n",
       "      <th>8413</th>\n",
       "      <td>2022-09-29/20:04:26</td>\n",
       "      <td>1925</td>\n",
       "      <td>17302</td>\n",
       "      <td>-3.30</td>\n",
       "      <td>-11.40</td>\n",
       "      <td>-2.44</td>\n",
       "    </tr>\n",
       "    <tr>\n",
       "      <th>8414</th>\n",
       "      <td>2022-09-30/10:47:49</td>\n",
       "      <td>2012</td>\n",
       "      <td>17306</td>\n",
       "      <td>4.89</td>\n",
       "      <td>2.41</td>\n",
       "      <td>0.83</td>\n",
       "    </tr>\n",
       "    <tr>\n",
       "      <th>8415</th>\n",
       "      <td>2022-09-30/18:06:01</td>\n",
       "      <td>1978</td>\n",
       "      <td>17308</td>\n",
       "      <td>2.78</td>\n",
       "      <td>-3.01</td>\n",
       "      <td>0.68</td>\n",
       "    </tr>\n",
       "  </tbody>\n",
       "</table>\n",
       "<p>8416 rows × 6 columns</p>\n",
       "</div>"
      ],
      "text/plain": [
       "                     Time number of data points orbit number Bx_mso (nT)  \\\n",
       "0     2014-11-11/23:12:37                  1588          235        1.82   \n",
       "1     2014-11-12/03:28:05                  1989          236       -2.04   \n",
       "2     2014-11-12/21:56:13                  1870          240       -0.00   \n",
       "3     2014-11-13/02:17:49                  2185          241       -0.86   \n",
       "4     2014-11-13/16:42:15                  1259          244       -0.93   \n",
       "...                   ...                   ...          ...         ...   \n",
       "8411  2022-09-29/12:47:57                  1972        17300       -1.33   \n",
       "8412  2022-09-29/16:22:29                  1862        17301       -4.04   \n",
       "8413  2022-09-29/20:04:26                  1925        17302       -3.30   \n",
       "8414  2022-09-30/10:47:49                  2012        17306        4.89   \n",
       "8415  2022-09-30/18:06:01                  1978        17308        2.78   \n",
       "\n",
       "     By_mso (nT) Bz_mso (nT)  \n",
       "0           5.60       -0.58  \n",
       "1           9.90        1.98  \n",
       "2           3.56        4.74  \n",
       "3           3.55        2.84  \n",
       "4           5.27        0.39  \n",
       "...          ...         ...  \n",
       "8411       -4.02        2.90  \n",
       "8412      -10.08        1.01  \n",
       "8413      -11.40       -2.44  \n",
       "8414        2.41        0.83  \n",
       "8415       -3.01        0.68  \n",
       "\n",
       "[8416 rows x 6 columns]"
      ]
     },
     "execution_count": 5,
     "metadata": {},
     "output_type": "execute_result"
    }
   ],
   "source": [
    "#we could/should still convert the time column to DateTime and the points to floats here\n",
    "df"
   ]
  },
  {
   "cell_type": "markdown",
   "id": "8950945b",
   "metadata": {},
   "source": [
    "Converting the strings to floats:"
   ]
  },
  {
   "cell_type": "code",
   "execution_count": 26,
   "id": "3c13a06b",
   "metadata": {},
   "outputs": [],
   "source": [
    "df['number of data points'] = df['number of data points'].astype(float)\n",
    "df['orbit number'] = df['orbit number'].astype(float)\n",
    "df['Bx_mso (nT)'] = df['Bx_mso (nT)'].astype(float)\n",
    "df['By_mso (nT)'] = df['By_mso (nT)'].astype(float)\n",
    "df['Bz_mso (nT)'] = df['Bz_mso (nT)'].astype(float)"
   ]
  },
  {
   "cell_type": "markdown",
   "id": "ca4a8e0e",
   "metadata": {},
   "source": [
    "converting the time string to datetime:"
   ]
  },
  {
   "cell_type": "code",
   "execution_count": 27,
   "id": "25c7ebb1",
   "metadata": {},
   "outputs": [],
   "source": [
    "df['Time'] = pd.to_datetime(df['Time'])"
   ]
  },
  {
   "cell_type": "markdown",
   "id": "7a72f9b3",
   "metadata": {},
   "source": [
    "### Now our data is perfect, with time as datetimetype, and all numbers as floats"
   ]
  },
  {
   "cell_type": "code",
   "execution_count": 28,
   "id": "4e991220",
   "metadata": {
    "scrolled": true
   },
   "outputs": [
    {
     "data": {
      "text/html": [
       "<div>\n",
       "<style scoped>\n",
       "    .dataframe tbody tr th:only-of-type {\n",
       "        vertical-align: middle;\n",
       "    }\n",
       "\n",
       "    .dataframe tbody tr th {\n",
       "        vertical-align: top;\n",
       "    }\n",
       "\n",
       "    .dataframe thead th {\n",
       "        text-align: right;\n",
       "    }\n",
       "</style>\n",
       "<table border=\"1\" class=\"dataframe\">\n",
       "  <thead>\n",
       "    <tr style=\"text-align: right;\">\n",
       "      <th></th>\n",
       "      <th>Time</th>\n",
       "      <th>number of data points</th>\n",
       "      <th>orbit number</th>\n",
       "      <th>Bx_mso (nT)</th>\n",
       "      <th>By_mso (nT)</th>\n",
       "      <th>Bz_mso (nT)</th>\n",
       "    </tr>\n",
       "  </thead>\n",
       "  <tbody>\n",
       "    <tr>\n",
       "      <th>0</th>\n",
       "      <td>2014-11-11 23:12:37</td>\n",
       "      <td>1588.0</td>\n",
       "      <td>235.0</td>\n",
       "      <td>1.82</td>\n",
       "      <td>5.60</td>\n",
       "      <td>-0.58</td>\n",
       "    </tr>\n",
       "    <tr>\n",
       "      <th>1</th>\n",
       "      <td>2014-11-12 03:28:05</td>\n",
       "      <td>1989.0</td>\n",
       "      <td>236.0</td>\n",
       "      <td>-2.04</td>\n",
       "      <td>9.90</td>\n",
       "      <td>1.98</td>\n",
       "    </tr>\n",
       "    <tr>\n",
       "      <th>2</th>\n",
       "      <td>2014-11-12 21:56:13</td>\n",
       "      <td>1870.0</td>\n",
       "      <td>240.0</td>\n",
       "      <td>-0.00</td>\n",
       "      <td>3.56</td>\n",
       "      <td>4.74</td>\n",
       "    </tr>\n",
       "    <tr>\n",
       "      <th>3</th>\n",
       "      <td>2014-11-13 02:17:49</td>\n",
       "      <td>2185.0</td>\n",
       "      <td>241.0</td>\n",
       "      <td>-0.86</td>\n",
       "      <td>3.55</td>\n",
       "      <td>2.84</td>\n",
       "    </tr>\n",
       "    <tr>\n",
       "      <th>4</th>\n",
       "      <td>2014-11-13 16:42:15</td>\n",
       "      <td>1259.0</td>\n",
       "      <td>244.0</td>\n",
       "      <td>-0.93</td>\n",
       "      <td>5.27</td>\n",
       "      <td>0.39</td>\n",
       "    </tr>\n",
       "    <tr>\n",
       "      <th>...</th>\n",
       "      <td>...</td>\n",
       "      <td>...</td>\n",
       "      <td>...</td>\n",
       "      <td>...</td>\n",
       "      <td>...</td>\n",
       "      <td>...</td>\n",
       "    </tr>\n",
       "    <tr>\n",
       "      <th>8411</th>\n",
       "      <td>2022-09-29 12:47:57</td>\n",
       "      <td>1972.0</td>\n",
       "      <td>17300.0</td>\n",
       "      <td>-1.33</td>\n",
       "      <td>-4.02</td>\n",
       "      <td>2.90</td>\n",
       "    </tr>\n",
       "    <tr>\n",
       "      <th>8412</th>\n",
       "      <td>2022-09-29 16:22:29</td>\n",
       "      <td>1862.0</td>\n",
       "      <td>17301.0</td>\n",
       "      <td>-4.04</td>\n",
       "      <td>-10.08</td>\n",
       "      <td>1.01</td>\n",
       "    </tr>\n",
       "    <tr>\n",
       "      <th>8413</th>\n",
       "      <td>2022-09-29 20:04:26</td>\n",
       "      <td>1925.0</td>\n",
       "      <td>17302.0</td>\n",
       "      <td>-3.30</td>\n",
       "      <td>-11.40</td>\n",
       "      <td>-2.44</td>\n",
       "    </tr>\n",
       "    <tr>\n",
       "      <th>8414</th>\n",
       "      <td>2022-09-30 10:47:49</td>\n",
       "      <td>2012.0</td>\n",
       "      <td>17306.0</td>\n",
       "      <td>4.89</td>\n",
       "      <td>2.41</td>\n",
       "      <td>0.83</td>\n",
       "    </tr>\n",
       "    <tr>\n",
       "      <th>8415</th>\n",
       "      <td>2022-09-30 18:06:01</td>\n",
       "      <td>1978.0</td>\n",
       "      <td>17308.0</td>\n",
       "      <td>2.78</td>\n",
       "      <td>-3.01</td>\n",
       "      <td>0.68</td>\n",
       "    </tr>\n",
       "  </tbody>\n",
       "</table>\n",
       "<p>8416 rows × 6 columns</p>\n",
       "</div>"
      ],
      "text/plain": [
       "                    Time  number of data points  orbit number  Bx_mso (nT)  \\\n",
       "0    2014-11-11 23:12:37                 1588.0         235.0         1.82   \n",
       "1    2014-11-12 03:28:05                 1989.0         236.0        -2.04   \n",
       "2    2014-11-12 21:56:13                 1870.0         240.0        -0.00   \n",
       "3    2014-11-13 02:17:49                 2185.0         241.0        -0.86   \n",
       "4    2014-11-13 16:42:15                 1259.0         244.0        -0.93   \n",
       "...                  ...                    ...           ...          ...   \n",
       "8411 2022-09-29 12:47:57                 1972.0       17300.0        -1.33   \n",
       "8412 2022-09-29 16:22:29                 1862.0       17301.0        -4.04   \n",
       "8413 2022-09-29 20:04:26                 1925.0       17302.0        -3.30   \n",
       "8414 2022-09-30 10:47:49                 2012.0       17306.0         4.89   \n",
       "8415 2022-09-30 18:06:01                 1978.0       17308.0         2.78   \n",
       "\n",
       "      By_mso (nT)  Bz_mso (nT)  \n",
       "0            5.60        -0.58  \n",
       "1            9.90         1.98  \n",
       "2            3.56         4.74  \n",
       "3            3.55         2.84  \n",
       "4            5.27         0.39  \n",
       "...           ...          ...  \n",
       "8411        -4.02         2.90  \n",
       "8412       -10.08         1.01  \n",
       "8413       -11.40        -2.44  \n",
       "8414         2.41         0.83  \n",
       "8415        -3.01         0.68  \n",
       "\n",
       "[8416 rows x 6 columns]"
      ]
     },
     "execution_count": 28,
     "metadata": {},
     "output_type": "execute_result"
    }
   ],
   "source": [
    "df"
   ]
  },
  {
   "cell_type": "markdown",
   "id": "d1a03425",
   "metadata": {},
   "source": [
    "Have a quick look at the shape to see what we are dealing with"
   ]
  },
  {
   "cell_type": "code",
   "execution_count": 44,
   "id": "8e72cffe",
   "metadata": {},
   "outputs": [
    {
     "name": "stdout",
     "output_type": "stream",
     "text": [
      "dataframe shape is:  (8416, 7)\n",
      "datframe is  8416  values long, and  7  wide\n"
     ]
    }
   ],
   "source": [
    "print('dataframe shape is: ', df.shape)\n",
    "print('datframe is ', df.shape[0], ' values long, and ', df.shape[1], ' wide')"
   ]
  },
  {
   "cell_type": "markdown",
   "id": "c93849d2",
   "metadata": {},
   "source": [
    "## Now we plot the Bx_mso(nt) over time\n",
    "There is definitely interesting patterns to analyse here"
   ]
  },
  {
   "cell_type": "code",
   "execution_count": 29,
   "id": "408d99d9",
   "metadata": {},
   "outputs": [
    {
     "data": {
      "text/plain": [
       "<AxesSubplot:xlabel='Time'>"
      ]
     },
     "execution_count": 29,
     "metadata": {},
     "output_type": "execute_result"
    },
    {
     "data": {
      "image/png": "[encoded data removed]",
      "text/plain": [
       "<Figure size 432x288 with 1 Axes>"
      ]
     },
     "metadata": {
      "needs_background": "light"
     },
     "output_type": "display_data"
    }
   ],
   "source": [
    "df.plot(x='Time',y='Bx_mso (nT)')"
   ]
  },
  {
   "cell_type": "markdown",
   "id": "519f089c",
   "metadata": {},
   "source": [
    "Because we are not only looking at the x component, we create a culminative xyz component to analyse all components simultaneously"
   ]
  },
  {
   "cell_type": "code",
   "execution_count": 39,
   "id": "0e8b3d74",
   "metadata": {},
   "outputs": [],
   "source": [
    "df['cumulative'] = df['Bx_mso (nT)'] + df['By_mso (nT)'] + df['Bz_mso (nT)']"
   ]
  },
  {
   "cell_type": "markdown",
   "id": "6f63986a",
   "metadata": {},
   "source": [
    "This new column looks as follows:"
   ]
  },
  {
   "cell_type": "code",
   "execution_count": 41,
   "id": "72765051",
   "metadata": {},
   "outputs": [
    {
     "data": {
      "text/plain": [
       "0        6.84\n",
       "1        9.84\n",
       "2        8.30\n",
       "3        5.53\n",
       "4        4.73\n",
       "        ...  \n",
       "8411    -2.45\n",
       "8412   -13.11\n",
       "8413   -17.14\n",
       "8414     8.13\n",
       "8415     0.45\n",
       "Name: cumulative, Length: 8416, dtype: float64"
      ]
     },
     "execution_count": 41,
     "metadata": {},
     "output_type": "execute_result"
    }
   ],
   "source": [
    "df['cumulative']"
   ]
  },
  {
   "cell_type": "markdown",
   "id": "8fcc1669",
   "metadata": {},
   "source": [
    "And now we anlayse this new, cumulative plot that we made:"
   ]
  },
  {
   "cell_type": "code",
   "execution_count": 42,
   "id": "dbd098a6",
   "metadata": {},
   "outputs": [
    {
     "data": {
      "text/plain": [
       "<AxesSubplot:title={'center':'cumulative component analysis'}, xlabel='Time'>"
      ]
     },
     "execution_count": 42,
     "metadata": {},
     "output_type": "execute_result"
    },
    {
     "data": {
      "image/png": "[encoded data removed]",
      "text/plain": [
       "<Figure size 432x288 with 1 Axes>"
      ]
     },
     "metadata": {
      "needs_background": "light"
     },
     "output_type": "display_data"
    }
   ],
   "source": [
    "df.plot(x='Time',y='cumulative', title = 'cumulative component analysis')"
   ]
  },
  {
   "cell_type": "markdown",
   "id": "deb0558d",
   "metadata": {},
   "source": [
    "let's make a magnitude calculation + column together\n",
    "fun exercise"
   ]
  },
  {
   "cell_type": "code",
   "execution_count": null,
   "id": "d4cc59e6",
   "metadata": {},
   "outputs": [],
   "source": [
    "we can take individual components like this:"
   ]
  },
  {
   "cell_type": "code",
   "execution_count": 47,
   "id": "ff6d4efa",
   "metadata": {},
   "outputs": [
    {
     "data": {
      "text/plain": [
       "-0.55"
      ]
     },
     "execution_count": 47,
     "metadata": {},
     "output_type": "execute_result"
    }
   ],
   "source": [
    "df['Bx_mso (nT)'][5]"
   ]
  },
  {
   "cell_type": "code",
   "execution_count": null,
   "id": "f0ef13d7",
   "metadata": {},
   "outputs": [],
   "source": [
    "then we can square them, and add the others:"
   ]
  },
  {
   "cell_type": "code",
   "execution_count": 49,
   "id": "fc8fbdba",
   "metadata": {},
   "outputs": [
    {
     "data": {
      "text/plain": [
       "0.30250000000000005"
      ]
     },
     "execution_count": 49,
     "metadata": {},
     "output_type": "execute_result"
    }
   ],
   "source": [
    "df['Bx_mso (nT)'][5] **2"
   ]
  },
  {
   "cell_type": "code",
   "execution_count": 50,
   "id": "e40b96f9",
   "metadata": {},
   "outputs": [
    {
     "data": {
      "text/plain": [
       "51.1225"
      ]
     },
     "execution_count": 50,
     "metadata": {},
     "output_type": "execute_result"
    }
   ],
   "source": [
    "df['By_mso (nT)'][5] **2"
   ]
  },
  {
   "cell_type": "code",
   "execution_count": null,
   "id": "e72a66a5",
   "metadata": {},
   "outputs": [],
   "source": [
    "So we don't need a numpy function, we can just calculate it 'by hand'\n",
    "\n",
    "okay, let's talk more about this later "
   ]
  }
 ],
 "metadata": {
  "kernelspec": {
   "display_name": "Python 3",
   "language": "python",
   "name": "python3"
  },
  "language_info": {
   "codemirror_mode": {
    "name": "ipython",
    "version": 3
   },
   "file_extension": ".py",
   "mimetype": "text/x-python",
   "name": "python",
   "nbconvert_exporter": "python",
   "pygments_lexer": "ipython3",
   "version": "3.8.8"
  }
 },
 "nbformat": 4,
 "nbformat_minor": 5
}
